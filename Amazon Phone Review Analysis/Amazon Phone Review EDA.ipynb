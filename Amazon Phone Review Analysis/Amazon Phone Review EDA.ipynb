{
 "cells": [
  {
   "cell_type": "markdown",
   "id": "d390291f",
   "metadata": {},
   "source": [
    "# 1. Introduction"
   ]
  },
  {
   "cell_type": "markdown",
   "id": "8c4a26dd",
   "metadata": {},
   "source": [
    "So, imagine this: you are on the hunt for a new smartphone, scrolling through Amazon's endless array of options. You're not just interested in what the specs say or what the manufacturers claim – you want to know what real users have to say. That's where the magic of customer reviews comes in!\n",
    "\n",
    "Think about it, every review is a goldmine of insights waiting to be discovered. Are the users raving about the camera quality? or are they complaining about the battery life? Or perhaps, there is a hidden feature that no one is talking about (this is prevalent in our world as we really do not have the time to dig through the hooks and crannies of our smart phones). \n",
    "\n",
    "This project will dive into the world of Amazon phone reviews using python to unravel trends and  patterns through exploratory data analysis. We will engage in some data cleaning and wrangling, data exploration and answer some questions 😁. The dataset used in this project was sourced from data world. You can view the full dataset [here](https://data.world/opensnippets/amazon-mobile-phones-reviews).\n",
    "Below are some questions that will be answered:\n",
    "\n",
    "1- What is the top reviewed phone?\n",
    "\n",
    "2- Which phone has the highest average review rating?\n",
    "\n",
    "3- What percentage of reviews are verified purchases?\n",
    "\n",
    "4- Is there a correlation between helpful_count and review_rating?\n",
    "\n",
    "5- How does the distribution of review ratings vary across different phone brands?\n",
    "\n",
    "6- Are there any trends in the frequency of reviews over time?\n",
    "\n",
    "7- Do certain product features or styles correlate with higher review ratings?\n",
    "\n",
    "\n",
    "\n",
    "\n",
    "### Data Description\n",
    "a) **product:** The name or model of the product being reviewed (e.g., \"iPhone 12 Pro Max\").\n",
    "\n",
    "b) **product_company:** The company or brand that manufactures the product (e.g., \"Apple\").\n",
    "\n",
    "c) **profile_name:** The name or username of the person who wrote the review.\n",
    "\n",
    "d) **review_title:** The title or headline of the review.\n",
    "\n",
    "e) **review_rating:** The numerical rating assigned by the reviewer (e.g., on a scale of 1 to 5 stars).\n",
    "\n",
    "f) **review_text:** The main body of the review, containing the reviewer's opinions, experiences, and feedback.\n",
    "\n",
    "g) **helpful_count:** The number of users who found the review helpful or voted it as such.\n",
    "\n",
    "h) **total_comments:** The total number of comments or replies on the review.\n",
    "\n",
    "i) **review_country:** The country or region associated with the reviewer.\n",
    "\n",
    "j) **reviewed_at:** The date and time when the review was posted.\n",
    "\n",
    "k) **url:** The URL of the product page on Amazon.\n",
    "\n",
    "l) **crawled_at:** The date and time when the review data was collected or crawled.\n",
    "\n",
    "m) **id:** Unique identifier for the review.\n",
    "\n",
    "n) **verified_purchase:** Indicates whether the reviewer is a verified purchaser of the product (e.g., \"Yes\" or \"No\").\n",
    "\n",
    "o) **color:** Color variant of the product (if applicable).\n",
    "\n",
    "p) **style_name:** Style or model variant of the product (if applicable).\n",
    "\n",
    "q) **size_name:** Size variant of the product (if applicable).\n",
    "\n",
    "r) **category:** The general category to which the product belongs (e.g., \"Electronics\").\n",
    "\n",
    "s) **sub_category:** A more specific sub-category within the main category (e.g., \"Smartphones\").\n"
   ]
  },
  {
   "cell_type": "code",
   "execution_count": 1,
   "id": "af7316e3",
   "metadata": {},
   "outputs": [],
   "source": [
    "# import the libraries required for EDA\n",
    "\n",
    "import numpy as np\n",
    "import pandas as pd\n",
    "import matplotlib.pyplot as plt\n",
    "import seaborn as sns\n",
    "\n",
    "%matplotlib inline"
   ]
  },
  {
   "cell_type": "code",
   "execution_count": 2,
   "id": "f4d6ebcf",
   "metadata": {},
   "outputs": [
    {
     "name": "stdout",
     "output_type": "stream",
     "text": [
      "                                             product product_company  \\\n",
      "0  OnePlus Nord 5G (Gray Onyx, 8GB RAM, 128GB Sto...         OnePlus   \n",
      "1  OnePlus Nord 5G (Gray Onyx, 8GB RAM, 128GB Sto...         OnePlus   \n",
      "2  OnePlus Nord 5G (Gray Onyx, 8GB RAM, 128GB Sto...         OnePlus   \n",
      "3  OnePlus Nord 5G (Gray Onyx, 8GB RAM, 128GB Sto...         OnePlus   \n",
      "4  OnePlus Nord 5G (Gray Onyx, 8GB RAM, 128GB Sto...         OnePlus   \n",
      "\n",
      "      profile_name                   review_title       review_rating  \\\n",
      "0           Nikhil        *Read before you buy!!*  5.0 out of 5 stars   \n",
      "1             Amit  Near to mid range  Perfection  5.0 out of 5 stars   \n",
      "2        aishwarya                   Great price!  5.0 out of 5 stars   \n",
      "3          vasu a.              Beast in OnePlus.  5.0 out of 5 stars   \n",
      "4  Amazon Customer        Changed to Nord from 6t  5.0 out of 5 stars   \n",
      "\n",
      "                                         review_text  \\\n",
      "0  \\n  Yea..pre-ordered on 28 July, got it on 4 A...   \n",
      "1  \\n  Got it delivered yesterday , used for abou...   \n",
      "2                              \\n  An amazing phone!   \n",
      "3                                    \\n  Brilliant..   \n",
      "4  \\n  I was skeptical about changing from One pl...   \n",
      "\n",
      "                   helpful_count  total_comments review_country reviewed_at  \\\n",
      "0  721 people found this helpful               3         India   2020-08-04   \n",
      "1  436 people found this helpful               1         India   2020-08-03   \n",
      "2  322 people found this helpful               1         India   2020-08-04   \n",
      "3  243 people found this helpful               7         India   2020-08-02   \n",
      "4  109 people found this helpful               2         India   2020-08-04   \n",
      "\n",
      "                                                 url          crawled_at  \\\n",
      "0  https://www.amazon.in/product-reviews/B08695ZS... 2020-10-18 11:23:47   \n",
      "1  https://www.amazon.in/product-reviews/B08695ZS... 2020-10-18 11:23:47   \n",
      "2  https://www.amazon.in/product-reviews/B08695ZS... 2020-10-18 11:23:47   \n",
      "3  https://www.amazon.in/product-reviews/B08695ZS... 2020-10-18 11:23:47   \n",
      "4  https://www.amazon.in/product-reviews/B08695ZS... 2020-10-18 11:23:47   \n",
      "\n",
      "                                    _id  verified_purchase         color  \\\n",
      "0  45ca015a-2e39-5650-a174-ba966dd1e51f  Verified Purchase   Marble Blue   \n",
      "1  6820f8ae-f3cd-5783-b826-5e5805376047  Verified Purchase            na   \n",
      "2  bea91c43-8d65-5ef5-ab04-595a5f5cc542  Verified Purchase            na   \n",
      "3  76f68b53-5c52-56b2-9727-a5ab8c4bb4ff  Verified Purchase            na   \n",
      "4  22228681-b884-56a1-b04e-87167f6f76e6  Verified Purchase            na   \n",
      "\n",
      "                 style_name size_name     category sub_category  \\\n",
      "0   8GB RAM + 128GB Storage        na  electronics      mobiles   \n",
      "1                        na        na  electronics      mobiles   \n",
      "2                        na        na  electronics      mobiles   \n",
      "3                        na        na  electronics      mobiles   \n",
      "4                        na        na  electronics      mobiles   \n",
      "\n",
      "                                              images  \n",
      "0  [https://images-na.ssl-images-amazon.com/image...  \n",
      "1                                                 []  \n",
      "2  [https://images-na.ssl-images-amazon.com/image...  \n",
      "3  [https://images-na.ssl-images-amazon.com/image...  \n",
      "4                                                 []  \n"
     ]
    }
   ],
   "source": [
    "# read the data\n",
    "data = pd.read_json('amazon_one_plus_reviews.json')\n",
    "print(data.head())"
   ]
  },
  {
   "cell_type": "code",
   "execution_count": 3,
   "id": "becc2426",
   "metadata": {},
   "outputs": [
    {
     "data": {
      "text/html": [
       "<div>\n",
       "<style scoped>\n",
       "    .dataframe tbody tr th:only-of-type {\n",
       "        vertical-align: middle;\n",
       "    }\n",
       "\n",
       "    .dataframe tbody tr th {\n",
       "        vertical-align: top;\n",
       "    }\n",
       "\n",
       "    .dataframe thead th {\n",
       "        text-align: right;\n",
       "    }\n",
       "</style>\n",
       "<table border=\"1\" class=\"dataframe\">\n",
       "  <thead>\n",
       "    <tr style=\"text-align: right;\">\n",
       "      <th></th>\n",
       "      <th>total_comments</th>\n",
       "    </tr>\n",
       "  </thead>\n",
       "  <tbody>\n",
       "    <tr>\n",
       "      <th>count</th>\n",
       "      <td>30612.000000</td>\n",
       "    </tr>\n",
       "    <tr>\n",
       "      <th>mean</th>\n",
       "      <td>0.072325</td>\n",
       "    </tr>\n",
       "    <tr>\n",
       "      <th>std</th>\n",
       "      <td>0.444049</td>\n",
       "    </tr>\n",
       "    <tr>\n",
       "      <th>min</th>\n",
       "      <td>0.000000</td>\n",
       "    </tr>\n",
       "    <tr>\n",
       "      <th>25%</th>\n",
       "      <td>0.000000</td>\n",
       "    </tr>\n",
       "    <tr>\n",
       "      <th>50%</th>\n",
       "      <td>0.000000</td>\n",
       "    </tr>\n",
       "    <tr>\n",
       "      <th>75%</th>\n",
       "      <td>0.000000</td>\n",
       "    </tr>\n",
       "    <tr>\n",
       "      <th>max</th>\n",
       "      <td>24.000000</td>\n",
       "    </tr>\n",
       "  </tbody>\n",
       "</table>\n",
       "</div>"
      ],
      "text/plain": [
       "       total_comments\n",
       "count    30612.000000\n",
       "mean         0.072325\n",
       "std          0.444049\n",
       "min          0.000000\n",
       "25%          0.000000\n",
       "50%          0.000000\n",
       "75%          0.000000\n",
       "max         24.000000"
      ]
     },
     "execution_count": 3,
     "metadata": {},
     "output_type": "execute_result"
    }
   ],
   "source": [
    "# get the descriptive statistics of the data\n",
    "data.describe()"
   ]
  },
  {
   "cell_type": "markdown",
   "id": "254be92f",
   "metadata": {},
   "source": [
    "Looking from the data, it is obvious that it is kind of messy and requires it to be cleaned. Currently, there is only one numerical data as seen in the descriptive statistics table. There are a couple of columns (helpful_count, review rating) that would be more useful as numerical rather than objects. These would be worked upon."
   ]
  },
  {
   "cell_type": "markdown",
   "id": "8d069892",
   "metadata": {},
   "source": [
    "# 2. Data Preprocessing"
   ]
  },
  {
   "cell_type": "code",
   "execution_count": 4,
   "id": "22b2abe2",
   "metadata": {},
   "outputs": [
    {
     "name": "stdout",
     "output_type": "stream",
     "text": [
      "<class 'pandas.core.frame.DataFrame'>\n",
      "RangeIndex: 30612 entries, 0 to 30611\n",
      "Data columns (total 20 columns):\n",
      " #   Column             Non-Null Count  Dtype         \n",
      "---  ------             --------------  -----         \n",
      " 0   product            30612 non-null  object        \n",
      " 1   product_company    30612 non-null  object        \n",
      " 2   profile_name       30612 non-null  object        \n",
      " 3   review_title       30612 non-null  object        \n",
      " 4   review_rating      30612 non-null  object        \n",
      " 5   review_text        30612 non-null  object        \n",
      " 6   helpful_count      30612 non-null  object        \n",
      " 7   total_comments     30612 non-null  int64         \n",
      " 8   review_country     30612 non-null  object        \n",
      " 9   reviewed_at        30612 non-null  datetime64[ns]\n",
      " 10  url                30612 non-null  object        \n",
      " 11  crawled_at         30612 non-null  datetime64[ns]\n",
      " 12  _id                30612 non-null  object        \n",
      " 13  verified_purchase  30612 non-null  object        \n",
      " 14  color              30612 non-null  object        \n",
      " 15  style_name         30612 non-null  object        \n",
      " 16  size_name          30612 non-null  object        \n",
      " 17  category           30612 non-null  object        \n",
      " 18  sub_category       30612 non-null  object        \n",
      " 19  images             30612 non-null  object        \n",
      "dtypes: datetime64[ns](2), int64(1), object(17)\n",
      "memory usage: 4.7+ MB\n"
     ]
    }
   ],
   "source": [
    "data.info()"
   ]
  },
  {
   "cell_type": "markdown",
   "id": "24496718",
   "metadata": {},
   "source": [
    "There are no missing values in this dataset. However, we won't be needing the **\"_id, url, crawled_at, and images\"** columns as they are not useful for our analysis. For this reason, these will be dropped."
   ]
  },
  {
   "cell_type": "code",
   "execution_count": 5,
   "id": "1a3c2013",
   "metadata": {},
   "outputs": [
    {
     "name": "stdout",
     "output_type": "stream",
     "text": [
      "<class 'pandas.core.frame.DataFrame'>\n",
      "RangeIndex: 30612 entries, 0 to 30611\n",
      "Data columns (total 16 columns):\n",
      " #   Column             Non-Null Count  Dtype         \n",
      "---  ------             --------------  -----         \n",
      " 0   product            30612 non-null  object        \n",
      " 1   product_company    30612 non-null  object        \n",
      " 2   profile_name       30612 non-null  object        \n",
      " 3   review_title       30612 non-null  object        \n",
      " 4   review_rating      30612 non-null  object        \n",
      " 5   review_text        30612 non-null  object        \n",
      " 6   helpful_count      30612 non-null  object        \n",
      " 7   total_comments     30612 non-null  int64         \n",
      " 8   review_country     30612 non-null  object        \n",
      " 9   reviewed_at        30612 non-null  datetime64[ns]\n",
      " 10  verified_purchase  30612 non-null  object        \n",
      " 11  color              30612 non-null  object        \n",
      " 12  style_name         30612 non-null  object        \n",
      " 13  size_name          30612 non-null  object        \n",
      " 14  category           30612 non-null  object        \n",
      " 15  sub_category       30612 non-null  object        \n",
      "dtypes: datetime64[ns](1), int64(1), object(14)\n",
      "memory usage: 3.7+ MB\n"
     ]
    }
   ],
   "source": [
    "# drops the url, crawled_at, and images columns\n",
    "\n",
    "data.drop(['_id', 'url', 'crawled_at', 'images'], axis=1, inplace=True)\n",
    "data.info()"
   ]
  },
  {
   "cell_type": "code",
   "execution_count": 6,
   "id": "6906ba92",
   "metadata": {},
   "outputs": [],
   "source": [
    "# check for duplicated data\n",
    "data.duplicated().sum()\n",
    "\n",
    "# drop duplicates\n",
    "data.drop_duplicates(keep='first', inplace=True)"
   ]
  },
  {
   "cell_type": "code",
   "execution_count": 7,
   "id": "afa02d2a",
   "metadata": {},
   "outputs": [
    {
     "data": {
      "text/plain": [
       "product              0\n",
       "product_company      0\n",
       "profile_name         0\n",
       "review_title         0\n",
       "review_rating        0\n",
       "review_text          0\n",
       "helpful_count        0\n",
       "total_comments       0\n",
       "review_country       0\n",
       "reviewed_at          0\n",
       "verified_purchase    0\n",
       "color                0\n",
       "style_name           0\n",
       "size_name            0\n",
       "category             0\n",
       "sub_category         0\n",
       "dtype: int64"
      ]
     },
     "execution_count": 7,
     "metadata": {},
     "output_type": "execute_result"
    }
   ],
   "source": [
    "# check for missing values\n",
    "data.isna().sum()"
   ]
  },
  {
   "cell_type": "markdown",
   "id": "bed2e889",
   "metadata": {},
   "source": [
    "###### Next, let find out the unique values and unique objects in each column."
   ]
  },
  {
   "cell_type": "code",
   "execution_count": 8,
   "id": "fed9208b",
   "metadata": {},
   "outputs": [
    {
     "name": "stdout",
     "output_type": "stream",
     "text": [
      "Unique product's count: 3\n",
      "['OnePlus Nord 5G (Gray Onyx, 8GB RAM, 128GB Storage)'\n",
      " 'Redmi Note 8 (Neptune Blue, 4GB RAM, 64GB Storage)'\n",
      " 'Redmi Note 9 Pro (Aurora Blue, 4GB RAM, 64GB Storage) - Latest 8nm Snapdragon 720G & Alexa Hands-Free | 6 Months No Cost EMI'] \n",
      "\n",
      "Unique product_company's count: 2\n",
      "['OnePlus' 'Redmi'] \n",
      "\n",
      "Unique profile_name's count: 23355\n",
      "['Nikhil' 'Amit' 'aishwarya' ... 'winshot' 'Naveen Mahore' 'SREEKUMAR V'] \n",
      "\n",
      "Unique review_title's count: 17655\n",
      "['*Read before you buy!!*' 'Near to mid range  Perfection' 'Great price!'\n",
      " ... 'Great but not satisfied for me'\n",
      " 'WORST MARKETING TACTICS OF FLASH SALE OF REDMI AND AMAZON'\n",
      " 'Camera quality is bad 👎'] \n",
      "\n",
      "Unique review_rating's count: 5\n",
      "['5.0 out of 5 stars' '4.0 out of 5 stars' '1.0 out of 5 stars'\n",
      " '3.0 out of 5 stars' '2.0 out of 5 stars'] \n",
      "\n",
      "Unique review_text's count: 25010\n",
      "['\\n  Yea..pre-ordered on 28 July, got it on 4 August. Package was nice without any damage. So here is my first impression:'\n",
      " '\\n  Got it delivered yesterday , used for about 5-6 hours , to tell you this is my first mid ranger previously I was using s9 plus , before that s7 edge and iphones in stone age .'\n",
      " '\\n  An amazing phone!' ...\n",
      " '\\n  Redmi and Amazon is engaged in a worst marketing tactics of flash sale to create a artificial hype. The stock is sold out within 30 seconds. Disgusting\\n'\n",
      " \"\\n  I am facing display retention problem, after using the display for about 30-60 minute the screen retain the picture, and I don't think it is a software issue. The display panel used in this device have a problem. So please mind the display before purchasing this device.\\n\"\n",
      " '\\n  Front camera quality is worse as compare to note 7 pro. Whenever I take the selfie or video call the front camera picture quality is blackish.\\n'] \n",
      "\n",
      "Unique helpful_count's count: 126\n",
      "['721 people found this helpful' '436 people found this helpful'\n",
      " '322 people found this helpful' '243 people found this helpful'\n",
      " '109 people found this helpful' '89 people found this helpful'\n",
      " '66 people found this helpful' '46 people found this helpful'\n",
      " '45 people found this helpful' '39 people found this helpful'\n",
      " '31 people found this helpful' '29 people found this helpful'\n",
      " '23 people found this helpful' '19 people found this helpful'\n",
      " '18 people found this helpful' '14 people found this helpful'\n",
      " '13 people found this helpful' '10 people found this helpful'\n",
      " '12 people found this helpful' '8 people found this helpful'\n",
      " '9 people found this helpful' '7 people found this helpful'\n",
      " '6 people found this helpful' '5 people found this helpful'\n",
      " '3 people found this helpful' '4 people found this helpful'\n",
      " '2 people found this helpful' 'One person found this helpful' '0'\n",
      " '2,848 people found this helpful' '1,494 people found this helpful'\n",
      " '283 people found this helpful' '185 people found this helpful'\n",
      " '86 people found this helpful' '59 people found this helpful'\n",
      " '50 people found this helpful' '36 people found this helpful'\n",
      " '26 people found this helpful' '447 people found this helpful'\n",
      " '340 people found this helpful' '270 people found this helpful'\n",
      " '247 people found this helpful' '197 people found this helpful'\n",
      " '169 people found this helpful' '163 people found this helpful'\n",
      " '133 people found this helpful' '105 people found this helpful'\n",
      " '120 people found this helpful' '85 people found this helpful'\n",
      " '62 people found this helpful' '47 people found this helpful'\n",
      " '41 people found this helpful' '33 people found this helpful'\n",
      " '30 people found this helpful' '42 people found this helpful'\n",
      " '28 people found this helpful' '15 people found this helpful'\n",
      " '17 people found this helpful' '32 people found this helpful'\n",
      " '21 people found this helpful' '25 people found this helpful'\n",
      " '24 people found this helpful' '16 people found this helpful'\n",
      " '2,430 people found this helpful' '157 people found this helpful'\n",
      " '83 people found this helpful' '512 people found this helpful'\n",
      " '203 people found this helpful' '71 people found this helpful'\n",
      " '11 people found this helpful' '1,665 people found this helpful'\n",
      " '324 people found this helpful' '505 people found this helpful'\n",
      " '272 people found this helpful' '259 people found this helpful'\n",
      " '431 people found this helpful' '201 people found this helpful'\n",
      " '171 people found this helpful' '135 people found this helpful'\n",
      " '122 people found this helpful' '141 people found this helpful'\n",
      " '88 people found this helpful' '82 people found this helpful'\n",
      " '61 people found this helpful' '60 people found this helpful'\n",
      " '52 people found this helpful' '34 people found this helpful'\n",
      " '27 people found this helpful' '22 people found this helpful'\n",
      " '20 people found this helpful' '64 people found this helpful'\n",
      " '118 people found this helpful' '65 people found this helpful'\n",
      " '43 people found this helpful' '161 people found this helpful'\n",
      " '3,778 people found this helpful' '128 people found this helpful'\n",
      " '80 people found this helpful' '107 people found this helpful'\n",
      " '40 people found this helpful' '379 people found this helpful'\n",
      " '275 people found this helpful' '230 people found this helpful'\n",
      " '51 people found this helpful' '35 people found this helpful'\n",
      " '964 people found this helpful' '553 people found this helpful'\n",
      " '423 people found this helpful' '226 people found this helpful'\n",
      " '210 people found this helpful' '190 people found this helpful'\n",
      " '57 people found this helpful' '4,550 people found this helpful'\n",
      " '364 people found this helpful' '263 people found this helpful'\n",
      " '137 people found this helpful' '79 people found this helpful'\n",
      " '67 people found this helpful' '58 people found this helpful'\n",
      " '44 people found this helpful' '48 people found this helpful'\n",
      " '38 people found this helpful' '213 people found this helpful'\n",
      " '175 people found this helpful' '293 people found this helpful'\n",
      " '87 people found this helpful'] \n",
      "\n",
      "Unique total_comments's count: 13\n",
      "[ 3  1  7  2  0 17  4 10  5  6 21 18 24] \n",
      "\n",
      "Unique review_country's count: 4\n",
      "[' India ' ' Saudi Arabia ' ' Mexico ' ' Italy '] \n",
      "\n",
      "Unique reviewed_at's count: 348\n",
      "['2020-08-04T00:00:00.000000000' '2020-08-03T00:00:00.000000000'\n",
      " '2020-08-02T00:00:00.000000000' '2020-08-07T00:00:00.000000000'\n",
      " '2020-09-01T00:00:00.000000000' '2020-08-05T00:00:00.000000000'\n",
      " '2020-09-28T00:00:00.000000000' '2020-08-06T00:00:00.000000000'\n",
      " '2020-08-13T00:00:00.000000000' '2020-08-12T00:00:00.000000000'\n",
      " '2020-09-11T00:00:00.000000000' '2020-09-23T00:00:00.000000000'\n",
      " '2020-08-14T00:00:00.000000000' '2020-08-15T00:00:00.000000000'\n",
      " '2020-08-08T00:00:00.000000000' '2020-08-17T00:00:00.000000000'\n",
      " '2020-10-09T00:00:00.000000000' '2020-08-22T00:00:00.000000000'\n",
      " '2020-08-10T00:00:00.000000000' '2020-09-25T00:00:00.000000000'\n",
      " '2020-09-21T00:00:00.000000000' '2020-09-14T00:00:00.000000000'\n",
      " '2020-08-26T00:00:00.000000000' '2020-08-11T00:00:00.000000000'\n",
      " '2020-08-20T00:00:00.000000000' '2020-09-29T00:00:00.000000000'\n",
      " '2020-10-01T00:00:00.000000000' '2020-09-05T00:00:00.000000000'\n",
      " '2020-08-23T00:00:00.000000000' '2020-08-28T00:00:00.000000000'\n",
      " '2020-08-30T00:00:00.000000000' '2020-10-06T00:00:00.000000000'\n",
      " '2020-08-16T00:00:00.000000000' '2020-09-08T00:00:00.000000000'\n",
      " '2020-09-20T00:00:00.000000000' '2020-09-06T00:00:00.000000000'\n",
      " '2020-09-10T00:00:00.000000000' '2020-08-21T00:00:00.000000000'\n",
      " '2020-09-26T00:00:00.000000000' '2020-08-09T00:00:00.000000000'\n",
      " '2020-08-24T00:00:00.000000000' '2020-10-08T00:00:00.000000000'\n",
      " '2020-09-03T00:00:00.000000000' '2020-09-04T00:00:00.000000000'\n",
      " '2020-09-02T00:00:00.000000000' '2020-08-31T00:00:00.000000000'\n",
      " '2020-09-30T00:00:00.000000000' '2020-09-12T00:00:00.000000000'\n",
      " '2020-08-19T00:00:00.000000000' '2020-08-29T00:00:00.000000000'\n",
      " '2020-08-18T00:00:00.000000000' '2020-09-16T00:00:00.000000000'\n",
      " '2020-09-09T00:00:00.000000000' '2020-09-18T00:00:00.000000000'\n",
      " '2020-09-19T00:00:00.000000000' '2020-10-14T00:00:00.000000000'\n",
      " '2020-10-04T00:00:00.000000000' '2020-09-27T00:00:00.000000000'\n",
      " '2020-09-07T00:00:00.000000000' '2020-08-27T00:00:00.000000000'\n",
      " '2020-09-13T00:00:00.000000000' '2020-08-25T00:00:00.000000000'\n",
      " '2020-09-22T00:00:00.000000000' '2020-10-11T00:00:00.000000000'\n",
      " '2020-10-12T00:00:00.000000000' '2020-09-15T00:00:00.000000000'\n",
      " '2020-10-05T00:00:00.000000000' '2020-10-07T00:00:00.000000000'\n",
      " '2020-10-16T00:00:00.000000000' '2020-10-13T00:00:00.000000000'\n",
      " '2020-10-02T00:00:00.000000000' '2020-10-10T00:00:00.000000000'\n",
      " '2020-09-24T00:00:00.000000000' '2020-10-15T00:00:00.000000000'\n",
      " '2020-09-17T00:00:00.000000000' '2020-10-03T00:00:00.000000000'\n",
      " '2020-10-17T00:00:00.000000000' '2020-10-18T00:00:00.000000000'\n",
      " '2019-11-06T00:00:00.000000000' '2019-11-10T00:00:00.000000000'\n",
      " '2019-12-01T00:00:00.000000000' '2019-11-08T00:00:00.000000000'\n",
      " '2019-11-30T00:00:00.000000000' '2020-01-06T00:00:00.000000000'\n",
      " '2019-11-15T00:00:00.000000000' '2019-11-09T00:00:00.000000000'\n",
      " '2019-11-16T00:00:00.000000000' '2019-11-12T00:00:00.000000000'\n",
      " '2019-12-03T00:00:00.000000000' '2019-11-13T00:00:00.000000000'\n",
      " '2019-12-04T00:00:00.000000000' '2019-11-14T00:00:00.000000000'\n",
      " '2019-11-07T00:00:00.000000000' '2019-11-11T00:00:00.000000000'\n",
      " '2019-12-28T00:00:00.000000000' '2020-01-28T00:00:00.000000000'\n",
      " '2020-01-09T00:00:00.000000000' '2020-02-17T00:00:00.000000000'\n",
      " '2020-01-03T00:00:00.000000000' '2019-12-29T00:00:00.000000000'\n",
      " '2020-03-19T00:00:00.000000000' '2019-11-26T00:00:00.000000000'\n",
      " '2020-01-16T00:00:00.000000000' '2019-12-23T00:00:00.000000000'\n",
      " '2020-01-31T00:00:00.000000000' '2020-02-27T00:00:00.000000000'\n",
      " '2019-11-19T00:00:00.000000000' '2020-02-03T00:00:00.000000000'\n",
      " '2019-12-13T00:00:00.000000000' '2020-07-27T00:00:00.000000000'\n",
      " '2020-03-10T00:00:00.000000000' '2019-12-07T00:00:00.000000000'\n",
      " '2019-12-18T00:00:00.000000000' '2020-07-21T00:00:00.000000000'\n",
      " '2020-03-08T00:00:00.000000000' '2020-05-24T00:00:00.000000000'\n",
      " '2020-07-09T00:00:00.000000000' '2019-11-28T00:00:00.000000000'\n",
      " '2020-05-27T00:00:00.000000000' '2020-01-05T00:00:00.000000000'\n",
      " '2019-12-31T00:00:00.000000000' '2020-06-04T00:00:00.000000000'\n",
      " '2019-12-02T00:00:00.000000000' '2020-07-06T00:00:00.000000000'\n",
      " '2020-07-02T00:00:00.000000000' '2019-12-25T00:00:00.000000000'\n",
      " '2020-07-31T00:00:00.000000000' '2019-12-26T00:00:00.000000000'\n",
      " '2019-11-17T00:00:00.000000000' '2020-01-04T00:00:00.000000000'\n",
      " '2020-01-08T00:00:00.000000000' '2020-03-03T00:00:00.000000000'\n",
      " '2019-11-29T00:00:00.000000000' '2020-03-05T00:00:00.000000000'\n",
      " '2019-12-24T00:00:00.000000000' '2020-01-22T00:00:00.000000000'\n",
      " '2020-07-12T00:00:00.000000000' '2020-05-11T00:00:00.000000000'\n",
      " '2020-03-04T00:00:00.000000000' '2020-05-28T00:00:00.000000000'\n",
      " '2020-02-14T00:00:00.000000000' '2019-12-14T00:00:00.000000000'\n",
      " '2019-12-06T00:00:00.000000000' '2020-01-29T00:00:00.000000000'\n",
      " '2020-02-19T00:00:00.000000000' '2020-06-16T00:00:00.000000000'\n",
      " '2019-12-27T00:00:00.000000000' '2020-01-25T00:00:00.000000000'\n",
      " '2020-03-02T00:00:00.000000000' '2020-03-17T00:00:00.000000000'\n",
      " '2020-01-15T00:00:00.000000000' '2019-12-05T00:00:00.000000000'\n",
      " '2020-02-11T00:00:00.000000000' '2020-02-01T00:00:00.000000000'\n",
      " '2020-07-25T00:00:00.000000000' '2020-02-05T00:00:00.000000000'\n",
      " '2020-06-12T00:00:00.000000000' '2020-06-05T00:00:00.000000000'\n",
      " '2019-11-18T00:00:00.000000000' '2020-07-10T00:00:00.000000000'\n",
      " '2020-03-07T00:00:00.000000000' '2020-07-03T00:00:00.000000000'\n",
      " '2020-06-08T00:00:00.000000000' '2020-02-04T00:00:00.000000000'\n",
      " '2020-07-16T00:00:00.000000000' '2020-07-11T00:00:00.000000000'\n",
      " '2020-01-19T00:00:00.000000000' '2020-01-27T00:00:00.000000000'\n",
      " '2020-02-20T00:00:00.000000000' '2020-07-23T00:00:00.000000000'\n",
      " '2020-03-01T00:00:00.000000000' '2019-12-10T00:00:00.000000000'\n",
      " '2020-06-25T00:00:00.000000000' '2020-05-01T00:00:00.000000000'\n",
      " '2020-01-26T00:00:00.000000000' '2020-02-13T00:00:00.000000000'\n",
      " '2020-01-01T00:00:00.000000000' '2020-01-11T00:00:00.000000000'\n",
      " '2020-01-17T00:00:00.000000000' '2019-12-19T00:00:00.000000000'\n",
      " '2020-03-09T00:00:00.000000000' '2020-07-22T00:00:00.000000000'\n",
      " '2020-03-15T00:00:00.000000000' '2020-02-10T00:00:00.000000000'\n",
      " '2020-01-13T00:00:00.000000000' '2020-01-07T00:00:00.000000000'\n",
      " '2019-12-21T00:00:00.000000000' '2020-03-29T00:00:00.000000000'\n",
      " '2020-04-09T00:00:00.000000000' '2020-02-06T00:00:00.000000000'\n",
      " '2020-01-18T00:00:00.000000000' '2020-03-06T00:00:00.000000000'\n",
      " '2020-02-07T00:00:00.000000000' '2019-11-20T00:00:00.000000000'\n",
      " '2020-05-03T00:00:00.000000000' '2020-06-28T00:00:00.000000000'\n",
      " '2020-07-26T00:00:00.000000000' '2020-01-23T00:00:00.000000000'\n",
      " '2020-01-14T00:00:00.000000000' '2019-12-17T00:00:00.000000000'\n",
      " '2020-03-11T00:00:00.000000000' '2019-11-22T00:00:00.000000000'\n",
      " '2020-03-14T00:00:00.000000000' '2020-06-01T00:00:00.000000000'\n",
      " '2019-12-11T00:00:00.000000000' '2020-02-02T00:00:00.000000000'\n",
      " '2019-12-08T00:00:00.000000000' '2020-07-28T00:00:00.000000000'\n",
      " '2020-06-13T00:00:00.000000000' '2020-05-12T00:00:00.000000000'\n",
      " '2020-06-22T00:00:00.000000000' '2019-11-27T00:00:00.000000000'\n",
      " '2020-05-25T00:00:00.000000000' '2020-03-23T00:00:00.000000000'\n",
      " '2020-05-19T00:00:00.000000000' '2020-02-12T00:00:00.000000000'\n",
      " '2020-06-03T00:00:00.000000000' '2020-07-24T00:00:00.000000000'\n",
      " '2020-01-30T00:00:00.000000000' '2020-01-21T00:00:00.000000000'\n",
      " '2020-06-18T00:00:00.000000000' '2020-01-24T00:00:00.000000000'\n",
      " '2020-06-15T00:00:00.000000000' '2019-11-23T00:00:00.000000000'\n",
      " '2020-02-29T00:00:00.000000000' '2019-11-21T00:00:00.000000000'\n",
      " '2020-05-07T00:00:00.000000000' '2020-01-02T00:00:00.000000000'\n",
      " '2019-12-12T00:00:00.000000000' '2020-05-17T00:00:00.000000000'\n",
      " '2020-01-10T00:00:00.000000000' '2020-03-21T00:00:00.000000000'\n",
      " '2020-02-28T00:00:00.000000000' '2019-12-09T00:00:00.000000000'\n",
      " '2020-06-10T00:00:00.000000000' '2020-02-26T00:00:00.000000000'\n",
      " '2020-05-16T00:00:00.000000000' '2020-07-01T00:00:00.000000000'\n",
      " '2020-02-23T00:00:00.000000000' '2019-12-16T00:00:00.000000000'\n",
      " '2020-05-21T00:00:00.000000000' '2020-04-01T00:00:00.000000000'\n",
      " '2020-01-20T00:00:00.000000000' '2020-06-07T00:00:00.000000000'\n",
      " '2020-02-16T00:00:00.000000000' '2019-12-15T00:00:00.000000000'\n",
      " '2020-03-25T00:00:00.000000000' '2020-03-16T00:00:00.000000000'\n",
      " '2020-08-01T00:00:00.000000000' '2019-12-30T00:00:00.000000000'\n",
      " '2020-05-10T00:00:00.000000000' '2019-12-20T00:00:00.000000000'\n",
      " '2020-04-06T00:00:00.000000000' '2020-02-08T00:00:00.000000000'\n",
      " '2019-11-24T00:00:00.000000000' '2020-07-04T00:00:00.000000000'\n",
      " '2020-05-13T00:00:00.000000000' '2020-02-22T00:00:00.000000000'\n",
      " '2020-02-09T00:00:00.000000000' '2020-05-29T00:00:00.000000000'\n",
      " '2020-06-29T00:00:00.000000000' '2020-01-12T00:00:00.000000000'\n",
      " '2020-07-19T00:00:00.000000000' '2020-07-17T00:00:00.000000000'\n",
      " '2019-11-25T00:00:00.000000000' '2020-07-13T00:00:00.000000000'\n",
      " '2020-04-25T00:00:00.000000000' '2020-07-08T00:00:00.000000000'\n",
      " '2020-07-07T00:00:00.000000000' '2020-05-22T00:00:00.000000000'\n",
      " '2019-12-22T00:00:00.000000000' '2020-03-18T00:00:00.000000000'\n",
      " '2020-03-27T00:00:00.000000000' '2020-03-24T00:00:00.000000000'\n",
      " '2020-05-20T00:00:00.000000000' '2020-03-13T00:00:00.000000000'\n",
      " '2020-03-22T00:00:00.000000000' '2020-02-21T00:00:00.000000000'\n",
      " '2020-06-30T00:00:00.000000000' '2020-07-14T00:00:00.000000000'\n",
      " '2020-05-14T00:00:00.000000000' '2020-06-21T00:00:00.000000000'\n",
      " '2020-07-30T00:00:00.000000000' '2020-06-11T00:00:00.000000000'\n",
      " '2020-06-02T00:00:00.000000000' '2020-06-26T00:00:00.000000000'\n",
      " '2020-05-26T00:00:00.000000000' '2020-05-23T00:00:00.000000000'\n",
      " '2020-05-09T00:00:00.000000000' '2020-03-20T00:00:00.000000000'\n",
      " '2020-03-12T00:00:00.000000000' '2020-07-18T00:00:00.000000000'\n",
      " '2020-02-18T00:00:00.000000000' '2020-05-31T00:00:00.000000000'\n",
      " '2020-02-15T00:00:00.000000000' '2020-05-04T00:00:00.000000000'\n",
      " '2020-02-25T00:00:00.000000000' '2020-06-14T00:00:00.000000000'\n",
      " '2020-06-09T00:00:00.000000000' '2020-04-02T00:00:00.000000000'\n",
      " '2020-06-27T00:00:00.000000000' '2020-07-15T00:00:00.000000000'\n",
      " '2020-04-30T00:00:00.000000000' '2020-06-17T00:00:00.000000000'\n",
      " '2020-06-23T00:00:00.000000000' '2020-05-30T00:00:00.000000000'\n",
      " '2020-05-08T00:00:00.000000000' '2020-04-22T00:00:00.000000000'\n",
      " '2020-02-24T00:00:00.000000000' '2020-07-20T00:00:00.000000000'\n",
      " '2020-07-05T00:00:00.000000000' '2020-03-26T00:00:00.000000000'\n",
      " '2020-04-19T00:00:00.000000000' '2020-06-19T00:00:00.000000000'\n",
      " '2020-04-03T00:00:00.000000000' '2020-06-20T00:00:00.000000000'\n",
      " '2020-06-06T00:00:00.000000000' '2020-05-15T00:00:00.000000000'\n",
      " '2020-05-05T00:00:00.000000000' '2020-03-31T00:00:00.000000000'\n",
      " '2020-04-29T00:00:00.000000000' '2020-03-30T00:00:00.000000000'\n",
      " '2020-06-24T00:00:00.000000000' '2020-04-07T00:00:00.000000000'\n",
      " '2020-04-05T00:00:00.000000000' '2020-03-28T00:00:00.000000000'\n",
      " '2020-07-29T00:00:00.000000000' '2020-05-18T00:00:00.000000000'\n",
      " '2020-04-11T00:00:00.000000000' '2020-04-12T00:00:00.000000000'\n",
      " '2020-04-23T00:00:00.000000000' '2020-04-18T00:00:00.000000000'\n",
      " '2020-04-04T00:00:00.000000000' '2020-04-17T00:00:00.000000000'\n",
      " '2020-05-06T00:00:00.000000000' '2020-04-15T00:00:00.000000000'\n",
      " '2020-04-27T00:00:00.000000000' '2020-04-28T00:00:00.000000000'\n",
      " '2020-04-20T00:00:00.000000000' '2020-04-24T00:00:00.000000000'\n",
      " '2020-04-16T00:00:00.000000000' '2020-05-02T00:00:00.000000000'\n",
      " '2020-04-08T00:00:00.000000000' '2020-04-14T00:00:00.000000000'\n",
      " '2020-04-10T00:00:00.000000000' '2020-04-26T00:00:00.000000000'\n",
      " '2020-04-13T00:00:00.000000000' '2020-04-21T00:00:00.000000000'] \n",
      "\n",
      "Unique verified_purchase's count: 2\n",
      "['Verified Purchase' 'na'] \n",
      "\n",
      "Unique color's count: 11\n",
      "[' Marble Blue' 'na' ' Gray Onyx' ' Neptune Blue' ' Moonlight White'\n",
      " ' Space Black' ' Cosmic Purple' ' Glacier White' ' Interstellar Black'\n",
      " ' Aurora Blue' ' Champagne Gold'] \n",
      "\n",
      "Unique style_name's count: 6\n",
      "[' 8GB RAM + 128GB Storage' 'na' ' 12GB RAM + 256GB Storage'\n",
      " ' 4GB RAM+ 64GB Storage' ' 4GB RAM + 128GB Storage'\n",
      " ' 6GB RAM + 128GB Storage'] \n",
      "\n",
      "Unique size_name's count: 2\n",
      "['na' ' 4+64GB'] \n",
      "\n",
      "Unique category's count: 1\n",
      "['electronics'] \n",
      "\n",
      "Unique sub_category's count: 1\n",
      "['mobiles'] \n",
      "\n"
     ]
    }
   ],
   "source": [
    "# loop through each column and get unique values per column\n",
    "for i in data.columns:\n",
    "    print(f\"Unique {i}'s count: {data[i].nunique()}\")\n",
    "    print(f\"{data[i].unique()} \\n\")"
   ]
  },
  {
   "cell_type": "markdown",
   "id": "18728f50",
   "metadata": {},
   "source": [
    "###### Convert the \"review_rating\" and \"helpful_counts\" columns to numerical data_types. Start by removing the phrases after the numbers"
   ]
  },
  {
   "cell_type": "code",
   "execution_count": 9,
   "id": "2072bd5d",
   "metadata": {},
   "outputs": [
    {
     "name": "stdout",
     "output_type": "stream",
     "text": [
      "['5' '4' '1' '3' '2']\n",
      "['721' '436' '322' '243' '109' '89' '66' '46' '45' '39' '31' '29' '23'\n",
      " '19' '18' '14' '13' '10' '12' '8' '9' '7' '6' '5' '3' '4' '2' '1' '0'\n",
      " '2848' '1494' '283' '185' '86' '59' '50' '36' '26' '447' '340' '270'\n",
      " '247' '197' '169' '163' '133' '105' '120' '85' '62' '47' '41' '33' '30'\n",
      " '42' '28' '15' '17' '32' '21' '25' '24' '16' '2430' '157' '83' '512'\n",
      " '203' '71' '11' '1665' '324' '505' '272' '259' '431' '201' '171' '135'\n",
      " '122' '141' '88' '82' '61' '60' '52' '34' '27' '22' '20' '64' '118' '65'\n",
      " '43' '161' '3778' '128' '80' '107' '40' '379' '275' '230' '51' '35' '964'\n",
      " '553' '423' '226' '210' '190' '57' '4550' '364' '263' '137' '79' '67'\n",
      " '58' '44' '48' '38' '213' '175' '293' '87']\n",
      "['OnePlus Nord 5G' 'Redmi Note 8' 'Redmi Note 9']\n",
      "<class 'pandas.core.frame.DataFrame'>\n",
      "Int64Index: 30465 entries, 0 to 30611\n",
      "Data columns (total 16 columns):\n",
      " #   Column             Non-Null Count  Dtype         \n",
      "---  ------             --------------  -----         \n",
      " 0   products           30465 non-null  object        \n",
      " 1   product_company    30465 non-null  object        \n",
      " 2   profile_name       30465 non-null  object        \n",
      " 3   review_title       30465 non-null  object        \n",
      " 4   review_rating      30465 non-null  int64         \n",
      " 5   review_text        30465 non-null  object        \n",
      " 6   helpful_count      30465 non-null  int64         \n",
      " 7   total_comments     30465 non-null  int64         \n",
      " 8   review_country     30465 non-null  object        \n",
      " 9   reviewed_at        30465 non-null  datetime64[ns]\n",
      " 10  verified_purchase  30465 non-null  object        \n",
      " 11  color              30465 non-null  object        \n",
      " 12  style_name         30465 non-null  object        \n",
      " 13  size_name          30465 non-null  object        \n",
      " 14  category           30465 non-null  object        \n",
      " 15  sub_category       30465 non-null  object        \n",
      "dtypes: datetime64[ns](1), int64(3), object(12)\n",
      "memory usage: 4.0+ MB\n",
      "None\n"
     ]
    },
    {
     "name": "stderr",
     "output_type": "stream",
     "text": [
      "C:\\Users\\ABDULL~1\\AppData\\Local\\Temp/ipykernel_30036/3143767592.py:12: FutureWarning: The default value of regex will change from True to False in a future version.\n",
      "  data['review_rating'] = data['review_rating'].str.replace('.0', '')\n"
     ]
    }
   ],
   "source": [
    "# remove the suffixes from the data\n",
    "\n",
    "# This removes the first three word in the product and assigns them to another column\n",
    "# Then moves the newly created column to the first position\n",
    "data[\"products\"] = data[\"product\"].str.split().str[:3].str.join(sep=\" \")\n",
    "data.drop('product', axis=1, inplace=True)\n",
    "first_col =data.pop('products')\n",
    "data.insert(0, 'products', first_col)\n",
    "data\n",
    "\n",
    "data['review_rating'] = data['review_rating'].str.replace(' out of 5 stars', '')\n",
    "data['review_rating'] = data['review_rating'].str.replace('.0', '')\n",
    "data['helpful_count'] = data['helpful_count'].str.replace(' people found this helpful', '')\n",
    "data['helpful_count'] = data['helpful_count'].str.replace(',', '')\n",
    "data['helpful_count'].replace('One person found this helpful', '1', inplace=True)\n",
    "\n",
    "print(data['review_rating'].unique())\n",
    "print(data['helpful_count'].unique())\n",
    "print(data['products'].unique())\n",
    "\n",
    "# convert the data to numbers\n",
    "data = data.astype({\"review_rating\": 'int64', \"helpful_count\": 'int64'})\n",
    "\n",
    "print(data.info())"
   ]
  },
  {
   "cell_type": "code",
   "execution_count": 10,
   "id": "fd509d60",
   "metadata": {},
   "outputs": [
    {
     "data": {
      "text/html": [
       "<div>\n",
       "<style scoped>\n",
       "    .dataframe tbody tr th:only-of-type {\n",
       "        vertical-align: middle;\n",
       "    }\n",
       "\n",
       "    .dataframe tbody tr th {\n",
       "        vertical-align: top;\n",
       "    }\n",
       "\n",
       "    .dataframe thead th {\n",
       "        text-align: right;\n",
       "    }\n",
       "</style>\n",
       "<table border=\"1\" class=\"dataframe\">\n",
       "  <thead>\n",
       "    <tr style=\"text-align: right;\">\n",
       "      <th></th>\n",
       "      <th>review_rating</th>\n",
       "      <th>helpful_count</th>\n",
       "      <th>total_comments</th>\n",
       "    </tr>\n",
       "  </thead>\n",
       "  <tbody>\n",
       "    <tr>\n",
       "      <th>count</th>\n",
       "      <td>30465.000000</td>\n",
       "      <td>30465.000000</td>\n",
       "      <td>30465.000000</td>\n",
       "    </tr>\n",
       "    <tr>\n",
       "      <th>mean</th>\n",
       "      <td>3.998359</td>\n",
       "      <td>1.459905</td>\n",
       "      <td>0.064500</td>\n",
       "    </tr>\n",
       "    <tr>\n",
       "      <th>std</th>\n",
       "      <td>1.201227</td>\n",
       "      <td>44.200907</td>\n",
       "      <td>0.364806</td>\n",
       "    </tr>\n",
       "    <tr>\n",
       "      <th>min</th>\n",
       "      <td>1.000000</td>\n",
       "      <td>0.000000</td>\n",
       "      <td>0.000000</td>\n",
       "    </tr>\n",
       "    <tr>\n",
       "      <th>25%</th>\n",
       "      <td>3.000000</td>\n",
       "      <td>0.000000</td>\n",
       "      <td>0.000000</td>\n",
       "    </tr>\n",
       "    <tr>\n",
       "      <th>50%</th>\n",
       "      <td>4.000000</td>\n",
       "      <td>0.000000</td>\n",
       "      <td>0.000000</td>\n",
       "    </tr>\n",
       "    <tr>\n",
       "      <th>75%</th>\n",
       "      <td>5.000000</td>\n",
       "      <td>0.000000</td>\n",
       "      <td>0.000000</td>\n",
       "    </tr>\n",
       "    <tr>\n",
       "      <th>max</th>\n",
       "      <td>5.000000</td>\n",
       "      <td>4550.000000</td>\n",
       "      <td>24.000000</td>\n",
       "    </tr>\n",
       "  </tbody>\n",
       "</table>\n",
       "</div>"
      ],
      "text/plain": [
       "       review_rating  helpful_count  total_comments\n",
       "count   30465.000000   30465.000000    30465.000000\n",
       "mean        3.998359       1.459905        0.064500\n",
       "std         1.201227      44.200907        0.364806\n",
       "min         1.000000       0.000000        0.000000\n",
       "25%         3.000000       0.000000        0.000000\n",
       "50%         4.000000       0.000000        0.000000\n",
       "75%         5.000000       0.000000        0.000000\n",
       "max         5.000000    4550.000000       24.000000"
      ]
     },
     "execution_count": 10,
     "metadata": {},
     "output_type": "execute_result"
    }
   ],
   "source": [
    "data.describe()"
   ]
  },
  {
   "cell_type": "code",
   "execution_count": 11,
   "id": "be19bc47",
   "metadata": {},
   "outputs": [
    {
     "name": "stdout",
     "output_type": "stream",
     "text": [
      "<class 'pandas.core.frame.DataFrame'>\n",
      "Int64Index: 30465 entries, 0 to 30611\n",
      "Data columns (total 16 columns):\n",
      " #   Column             Non-Null Count  Dtype         \n",
      "---  ------             --------------  -----         \n",
      " 0   products           30465 non-null  object        \n",
      " 1   product_company    30465 non-null  object        \n",
      " 2   profile_name       30465 non-null  object        \n",
      " 3   review_title       30465 non-null  object        \n",
      " 4   review_rating      30465 non-null  int64         \n",
      " 5   review_text        30465 non-null  object        \n",
      " 6   helpful_count      30465 non-null  int64         \n",
      " 7   total_comments     30465 non-null  int64         \n",
      " 8   review_country     30465 non-null  object        \n",
      " 9   reviewed_at        30465 non-null  datetime64[ns]\n",
      " 10  verified_purchase  30465 non-null  bool          \n",
      " 11  color              30465 non-null  object        \n",
      " 12  style_name         30465 non-null  object        \n",
      " 13  size_name          30465 non-null  object        \n",
      " 14  category           30465 non-null  object        \n",
      " 15  sub_category       30465 non-null  object        \n",
      "dtypes: bool(1), datetime64[ns](1), int64(3), object(11)\n",
      "memory usage: 3.7+ MB\n"
     ]
    }
   ],
   "source": [
    "# Convert the verified purchase column to Boolean\n",
    "\n",
    "d = {'Verified Purchase': True, 'na': False}\n",
    "data['verified_purchase']= data[\"verified_purchase\"].replace(d)\n",
    "\n",
    "\n",
    "data.info()"
   ]
  },
  {
   "cell_type": "code",
   "execution_count": 12,
   "id": "fb346792",
   "metadata": {},
   "outputs": [
    {
     "name": "stdout",
     "output_type": "stream",
     "text": [
      "True     97.99\n",
      "False     2.01\n",
      "Name: verified_purchase, dtype: float64\n"
     ]
    }
   ],
   "source": [
    "verified_percentage = (data['verified_purchase'].value_counts(normalize=True) * 100).round(2)\n",
    "print(verified_percentage)"
   ]
  },
  {
   "cell_type": "markdown",
   "id": "2b5761aa",
   "metadata": {},
   "source": [
    "# 3. Data Visualization\n",
    "Here, we will try to answer the questions above and support them with visualizations:\n",
    "\n",
    "#### 1. What is the top reviewed phone?"
   ]
  },
  {
   "cell_type": "code",
   "execution_count": 13,
   "id": "41ffbd91",
   "metadata": {},
   "outputs": [
    {
     "name": "stdout",
     "output_type": "stream",
     "text": [
      "products\n",
      "Redmi Note 8       13891\n",
      "OnePlus Nord 5G     9416\n",
      "Redmi Note 9        7158\n",
      "dtype: int64\n"
     ]
    },
    {
     "data": {
      "image/png": "[encoded data removed]",
      "text/plain": [
       "<Figure size 720x432 with 1 Axes>"
      ]
     },
     "metadata": {
      "needs_background": "light"
     },
     "output_type": "display_data"
    }
   ],
   "source": [
    "# Group by product and count the number of reviews\n",
    "top_reviewed = data.groupby('products').size().sort_values(ascending=False)\n",
    "print(top_reviewed)\n",
    "#create a style\n",
    "font1 = {'family':'serif','color':'black','size':23}\n",
    "font2 = {'family':'serif','color':'black','size':15}\n",
    "\n",
    "# Plotting\n",
    "plt.figure(figsize=(10, 6))\n",
    "top_reviewed.plot(kind='bar' )\n",
    "plt.title('Top Reviewed Phones', fontdict = font1)\n",
    "plt.xlabel('Products', fontdict = font2)\n",
    "plt.ylabel('Number of Reviews', fontdict = font2)\n",
    "plt.xticks(rotation=45)\n",
    "plt.show()"
   ]
  },
  {
   "cell_type": "markdown",
   "id": "ff5c8440",
   "metadata": {},
   "source": [
    "**Answer:** The top reviewed phone is **_Redmi Note 8_**"
   ]
  },
  {
   "cell_type": "markdown",
   "id": "24f8cb64",
   "metadata": {},
   "source": [
    "#### 2. Which phone has the highest average review rating?"
   ]
  },
  {
   "cell_type": "code",
   "execution_count": 14,
   "id": "33da2ee7",
   "metadata": {},
   "outputs": [
    {
     "name": "stdout",
     "output_type": "stream",
     "text": [
      "products\n",
      "Redmi Note 9       4.097653\n",
      "Redmi Note 8       3.991577\n",
      "OnePlus Nord 5G    3.932880\n",
      "Name: review_rating, dtype: float64\n"
     ]
    }
   ],
   "source": [
    "# Group by product and calculate the average review rating\n",
    "avg_rating = data.groupby('products')['review_rating'].mean().sort_values(ascending=False)\n",
    "print(avg_rating)\n"
   ]
  },
  {
   "cell_type": "markdown",
   "id": "2eae7c08",
   "metadata": {},
   "source": [
    "**Answer: Redmi Note 9** has the highest average rating with **4.10**"
   ]
  },
  {
   "cell_type": "markdown",
   "id": "3798fab9",
   "metadata": {},
   "source": [
    "#### 3.2 Distribution of Review Rating"
   ]
  },
  {
   "cell_type": "code",
   "execution_count": 15,
   "id": "09cd2fd2",
   "metadata": {},
   "outputs": [
    {
     "data": {
      "image/png": "[encoded data removed]",
      "text/plain": [
       "<Figure size 576x432 with 1 Axes>"
      ]
     },
     "metadata": {
      "needs_background": "light"
     },
     "output_type": "display_data"
    }
   ],
   "source": [
    "# Plotting\n",
    "plt.figure(figsize=(8, 6))\n",
    "plt.hist(data['review_rating'], bins=5, color='lightcoral')\n",
    "plt.title('Distribution of Review Ratings', size=23)\n",
    "plt.xlabel('Rating', size=15)\n",
    "plt.ylabel('Frequency', size=15)\n",
    "plt.show()\n"
   ]
  },
  {
   "cell_type": "markdown",
   "id": "5b011ebb",
   "metadata": {},
   "source": [
    "#### 3. What percentage of reviews are verified purchases?"
   ]
  },
  {
   "cell_type": "code",
   "execution_count": 16,
   "id": "f3864261",
   "metadata": {},
   "outputs": [
    {
     "name": "stdout",
     "output_type": "stream",
     "text": [
      "True     97.99\n",
      "False     2.01\n",
      "Name: verified_purchase, dtype: float64\n"
     ]
    },
    {
     "data": {
      "image/png": "[encoded data removed]",
      "text/plain": [
       "<Figure size 432x432 with 1 Axes>"
      ]
     },
     "metadata": {},
     "output_type": "display_data"
    }
   ],
   "source": [
    "# Calculate the percentage of verified purchases\n",
    "verified_percentage = (data['verified_purchase'].value_counts(normalize=True) * 100).round(2)\n",
    "\n",
    "print(verified_percentage)\n",
    "\n",
    "\n",
    "# Plotting\n",
    "plt.figure(figsize=(6, 6))\n",
    "plt.pie(verified_percentage, labels=['Verified', 'Not Verified'], autopct='%1.0f%%')\n",
    "plt.title('Percentage of Verified Purchases', size=23)\n",
    "plt.show()\n"
   ]
  },
  {
   "cell_type": "markdown",
   "id": "7d3b1856",
   "metadata": {},
   "source": [
    "**Answer: 98%** of the purchases were verified. "
   ]
  },
  {
   "cell_type": "markdown",
   "id": "5f3f8a87",
   "metadata": {},
   "source": [
    "#### 4. Is there a correlation between helpful_count and review_rating?"
   ]
  },
  {
   "cell_type": "code",
   "execution_count": 17,
   "id": "619df3a6",
   "metadata": {},
   "outputs": [
    {
     "name": "stdout",
     "output_type": "stream",
     "text": [
      "                   review_rating  helpful_count  total_comments  \\\n",
      "review_rating           1.000000      -0.027407       -0.279838   \n",
      "helpful_count          -0.027407       1.000000        0.688402   \n",
      "total_comments         -0.279838       0.688402        1.000000   \n",
      "verified_purchase       0.055942       0.002246        0.022085   \n",
      "\n",
      "                   verified_purchase  \n",
      "review_rating               0.055942  \n",
      "helpful_count               0.002246  \n",
      "total_comments              0.022085  \n",
      "verified_purchase           1.000000  \n"
     ]
    },
    {
     "data": {
      "image/png": "[encoded data removed]",
      "text/plain": [
       "<Figure size 576x432 with 1 Axes>"
      ]
     },
     "metadata": {
      "needs_background": "light"
     },
     "output_type": "display_data"
    }
   ],
   "source": [
    "print(data.corr())\n",
    "\n",
    "# Plotting\n",
    "plt.figure(figsize=(8, 6))\n",
    "sns.scatterplot(x='helpful_count', y='review_rating', data=data)\n",
    "plt.title('Correlation between Helpful Count and Review Rating', size=23)\n",
    "plt.xlabel('Helpful Count', size=15)\n",
    "plt.ylabel('Review Rating', size=15)\n",
    "plt.show()\n"
   ]
  },
  {
   "cell_type": "markdown",
   "id": "ddd38650",
   "metadata": {},
   "source": [
    "**Answer:** As seen from the correlation matrix table and scatterplot, there appears **no correlation** between helpful count and review rating "
   ]
  },
  {
   "cell_type": "markdown",
   "id": "45025837",
   "metadata": {},
   "source": [
    "#### 5. How does the distribution of review ratings vary across different phone brands?"
   ]
  },
  {
   "cell_type": "code",
   "execution_count": 18,
   "id": "f34c79da",
   "metadata": {},
   "outputs": [
    {
     "data": {
      "image/png": "[encoded data removed]",
      "text/plain": [
       "<Figure size 864x432 with 1 Axes>"
      ]
     },
     "metadata": {
      "needs_background": "light"
     },
     "output_type": "display_data"
    }
   ],
   "source": [
    "# Creates a boxplot to visualize the distribution of review ratings across different phone brands\n",
    "plt.figure(figsize=(12, 6))\n",
    "sns.boxplot(x='product_company', y='review_rating', data=data)\n",
    "plt.title('Distribution of Review Ratings Across Different Phone Brands')\n",
    "plt.xlabel('Phone Brand')\n",
    "plt.ylabel('Review Rating')\n",
    "plt.xticks(rotation=45, ha='right')\n",
    "plt.tight_layout()\n",
    "plt.show()"
   ]
  },
  {
   "cell_type": "markdown",
   "id": "b1ab8d1c",
   "metadata": {},
   "source": [
    "#### 6. Are there any trends in the frequency of reviews over time?"
   ]
  },
  {
   "cell_type": "code",
   "execution_count": 19,
   "id": "de2a3ca8",
   "metadata": {},
   "outputs": [
    {
     "data": {
      "image/png": "[encoded data removed]",
      "text/plain": [
       "<Figure size 720x432 with 1 Axes>"
      ]
     },
     "metadata": {
      "needs_background": "light"
     },
     "output_type": "display_data"
    }
   ],
   "source": [
    "# Extract month from 'reviewed_at'\n",
    "data['review_month'] = data['reviewed_at'].dt.to_period('M')\n",
    "\n",
    "# Count reviews per month\n",
    "review_trend = data.groupby('review_month').size()\n",
    "\n",
    "# Plotting\n",
    "plt.figure(figsize=(10, 6))\n",
    "review_trend.plot(marker='o', color='purple')\n",
    "plt.title('Trends in Review Frequency Over Time',size=23)\n",
    "plt.xlabel('Month', size=15)\n",
    "plt.ylabel('Number of Reviews', size=15)\n",
    "plt.xticks(rotation=45)\n",
    "plt.grid(True)\n",
    "plt.show()\n"
   ]
  },
  {
   "cell_type": "markdown",
   "id": "8f75764f",
   "metadata": {},
   "source": [
    "#### 7. Do certain product features or styles correlate with higher review ratings?\n",
    "\n",
    "Here, we will visualise the relationship between **review_rating and color**, and **review_rating and style name**."
   ]
  },
  {
   "cell_type": "code",
   "execution_count": 20,
   "id": "a9557d09",
   "metadata": {},
   "outputs": [
    {
     "data": {
      "image/png": "[encoded data removed]",
      "text/plain": [
       "<Figure size 720x432 with 1 Axes>"
      ]
     },
     "metadata": {
      "needs_background": "light"
     },
     "output_type": "display_data"
    },
    {
     "data": {
      "image/png": "[encoded data removed]",
      "text/plain": [
       "<Figure size 720x432 with 1 Axes>"
      ]
     },
     "metadata": {
      "needs_background": "light"
     },
     "output_type": "display_data"
    }
   ],
   "source": [
    "# review rating and color\n",
    "plt.figure(figsize=(10, 6))\n",
    "sns.scatterplot(x='color', y='review_rating', data=data)\n",
    "plt.title('Review Rating vs. Color', size=23)\n",
    "plt.xlabel('Color', size=15)\n",
    "plt.ylabel('Review Rating', size=15)\n",
    "plt.xticks(rotation=45)\n",
    "plt.tight_layout()\n",
    "\n",
    "# review rating and style name\n",
    "plt.figure(figsize=(10, 6))\n",
    "sns.scatterplot(x='style_name', y='review_rating', data=data)\n",
    "plt.title('Review Rating vs. Style Name', size=23)\n",
    "plt.xlabel('Style Name', size=15)\n",
    "plt.ylabel('Review Rating', size=15)\n",
    "plt.xticks(rotation=45)\n",
    "plt.tight_layout()\n",
    "plt.show()"
   ]
  },
  {
   "cell_type": "markdown",
   "id": "f04afd6b",
   "metadata": {},
   "source": [
    "# 4. Result\n",
    "From the analysis conducted, we were able to answer the questions posed at the beginning.\n",
    "Snapshots of the answers are below:\n",
    "\n",
    "- The top reviewed phone is Redmi Note 8.\n",
    "- Redmi Note 9 has the highest average rating with 4.10.\n",
    "- 98% of the purchases were verified.\n",
    "- There is no correlation between helpful count and review rating"
   ]
  },
  {
   "cell_type": "code",
   "execution_count": 21,
   "id": "44d9c372",
   "metadata": {},
   "outputs": [],
   "source": [
    "# export the cleaned pdf\n",
    "data.to_csv(\"phone_review.csv\")"
   ]
  },
  {
   "cell_type": "code",
   "execution_count": null,
   "id": "7a20e1b7",
   "metadata": {},
   "outputs": [],
   "source": []
  }
 ],
 "metadata": {
  "kernelspec": {
   "display_name": "Python 3 (ipykernel)",
   "language": "python",
   "name": "python3"
  },
  "language_info": {
   "codemirror_mode": {
    "name": "ipython",
    "version": 3
   },
   "file_extension": ".py",
   "mimetype": "text/x-python",
   "name": "python",
   "nbconvert_exporter": "python",
   "pygments_lexer": "ipython3",
   "version": "3.9.7"
  }
 },
 "nbformat": 4,
 "nbformat_minor": 5
}
